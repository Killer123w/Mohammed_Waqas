{
  "nbformat": 4,
  "nbformat_minor": 0,
  "metadata": {
    "colab": {
      "provenance": [],
      "authorship_tag": "ABX9TyNa0Dl1q+SnuZUPLUrxH3Tl",
      "include_colab_link": true
    },
    "kernelspec": {
      "name": "python3",
      "display_name": "Python 3"
    },
    "language_info": {
      "name": "python"
    }
  },
  "cells": [
    {
      "cell_type": "markdown",
      "metadata": {
        "id": "view-in-github",
        "colab_type": "text"
      },
      "source": [
        "<a href=\"https://colab.research.google.com/github/Killer123w/Mohammed_Waqas/blob/main/About_Waqas.ipynb\" target=\"_parent\"><img src=\"https://colab.research.google.com/assets/colab-badge.svg\" alt=\"Open In Colab\"/></a>"
      ]
    },
    {
      "cell_type": "code",
      "execution_count": 2,
      "metadata": {
        "colab": {
          "base_uri": "https://localhost:8080/"
        },
        "id": "CH-beNcjMM8e",
        "outputId": "43de65f9-d7f5-43ec-f971-58991d64a69b"
      },
      "outputs": [
        {
          "output_type": "stream",
          "name": "stdout",
          "text": [
            "i am 12 years old\n",
            "i like to hop around\n",
            "i like to eat pizza\n",
            "I am smart\n",
            "I am studying about how to end Data Science\n"
          ]
        }
      ],
      "source": [
        "print(\"i am 12 years old\")\n",
        "print(\"i like to hop around\")\n",
        "print(\"i like to eat pizza\")\n",
        "print(\"I am smart\")\n",
        "print(\"I am studying about how to end Data Science\")"
      ]
    }
  ]
}