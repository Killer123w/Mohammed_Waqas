{
  "nbformat": 4,
  "nbformat_minor": 0,
  "metadata": {
    "colab": {
      "provenance": [],
      "authorship_tag": "ABX9TyMxAxYhBZiwFqqhE/oYEFDz",
      "include_colab_link": true
    },
    "kernelspec": {
      "name": "python3",
      "display_name": "Python 3"
    },
    "language_info": {
      "name": "python"
    }
  },
  "cells": [
    {
      "cell_type": "markdown",
      "metadata": {
        "id": "view-in-github",
        "colab_type": "text"
      },
      "source": [
        "<a href=\"https://colab.research.google.com/github/Killer123w/Mohammed_Waqas/blob/main/Project.ipynb\" target=\"_parent\"><img src=\"https://colab.research.google.com/assets/colab-badge.svg\" alt=\"Open In Colab\"/></a>"
      ]
    },
    {
      "cell_type": "markdown",
      "source": [
        "Task#1\n",
        "1. Accepts a string input from the user.\n",
        "2. Checks if the string is a palindrome (reads the same forwards and backward).\n",
        "3. Prints \"Palindrome\" if true, otherwise prints \"Not a Palindrome\".\n"
      ],
      "metadata": {
        "id": "HVvd0m1UjCjV"
      }
    },
    {
      "cell_type": "code",
      "source": [
        "def W(x):\n",
        "    return x == x[::-1]\n",
        "\n",
        "x= input(\"write any word and my code will tell you if it's a Palidrome or not:\")\n",
        "y=W(x)\n",
        "\n",
        "if y:\n",
        "    print(\"Yes, it is a Palidrome\")\n",
        "else:\n",
        "    print(\"No, it is not a Palidrome\")"
      ],
      "metadata": {
        "id": "85f3QiCkjFve"
      },
      "execution_count": null,
      "outputs": []
    },
    {
      "cell_type": "markdown",
      "source": [
        "Task#2\n",
        "1. Takes a positive integer input from the user.\n",
        "2. Calculates its factorial using a loop (do not use built-in functions).\n",
        "3. Prints the result.\n",
        "\n",
        "(help needed)\n",
        "\n"
      ],
      "metadata": {
        "id": "fGCuxRlHk4zR"
      }
    },
    {
      "cell_type": "markdown",
      "source": [
        "Task#3\n",
        "1. Takes three subject marks as input from the user.\n",
        "2. Calculates the average of these marks.\n",
        "3. Based on the average, print the grade:\n",
        "\n",
        "1. average>= 90 : \"A\"\n",
        "2. average>= 80 : \"B\""
      ],
      "metadata": {
        "id": "dPDXdIWTq3D0"
      }
    },
    {
      "cell_type": "code",
      "source": [
        "print(\"This code will tell you the average grade of your three subjects;Maths,Science and English\")\n",
        "x=int(input(\"Your marks on Maths:\"))\n",
        "y=int(input(\"Your marks on Science:\"))\n",
        "z=int(input(\"Your marks on English:\"))\n",
        "l=[x,y,z]\n",
        "p=sum(l)/len(l)\n",
        "if p>=90:\n",
        "  print(\"Great,you got a A\")\n",
        "elif p>=80:\n",
        "  print(\"Good, you got a B\")\n",
        "elif p>=70:\n",
        "  print(\"Bad job, big room for improvement, you have to restart from scartch, your grade is -F\")\n",
        "\n",
        "\n"
      ],
      "metadata": {
        "colab": {
          "base_uri": "https://localhost:8080/"
        },
        "id": "9G39AmsJrGmy",
        "outputId": "e6af68be-713a-44cc-ec45-a06a0591a3dc"
      },
      "execution_count": null,
      "outputs": [
        {
          "output_type": "stream",
          "name": "stdout",
          "text": [
            "This code will tell you the average grade of your three subjects;Maths,Science and English\n",
            "Your marks on Maths:99\n",
            "Your marks on Science:99\n",
            "Your marks on English:99\n",
            "Great, you got a A\n"
          ]
        }
      ]
    }
  ]
}